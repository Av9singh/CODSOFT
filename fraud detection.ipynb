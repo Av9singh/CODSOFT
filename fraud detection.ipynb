{
 "cells": [
  {
   "cell_type": "code",
   "execution_count": 1,
   "id": "d59a16c4",
   "metadata": {
    "_cell_guid": "b1076dfc-b9ad-4769-8c92-a6c4dae69d19",
    "_uuid": "8f2839f25d086af736a60e9eeb907d3b93b6e0e5",
    "execution": {
     "iopub.execute_input": "2024-03-23T12:20:49.695221Z",
     "iopub.status.busy": "2024-03-23T12:20:49.694464Z",
     "iopub.status.idle": "2024-03-23T12:20:50.688742Z",
     "shell.execute_reply": "2024-03-23T12:20:50.687633Z"
    },
    "papermill": {
     "duration": 1.008994,
     "end_time": "2024-03-23T12:20:50.691436",
     "exception": false,
     "start_time": "2024-03-23T12:20:49.682442",
     "status": "completed"
    },
    "tags": []
   },
   "outputs": [],
   "source": [
    "import pandas as pd"
   ]
  },
  {
   "cell_type": "code",
   "execution_count": 2,
   "id": "ba91ecbb",
   "metadata": {
    "execution": {
     "iopub.execute_input": "2024-03-23T12:20:50.711004Z",
     "iopub.status.busy": "2024-03-23T12:20:50.710490Z",
     "iopub.status.idle": "2024-03-23T12:21:15.097501Z",
     "shell.execute_reply": "2024-03-23T12:21:15.095258Z"
    },
    "papermill": {
     "duration": 24.400155,
     "end_time": "2024-03-23T12:21:15.100721",
     "exception": false,
     "start_time": "2024-03-23T12:20:50.700566",
     "status": "completed"
    },
    "tags": []
   },
   "outputs": [],
   "source": [
    "\n",
    "train = pd.read_csv('/kaggle/input/fraud-detection/fraudTrain.csv')\n",
    "test = pd.read_csv('/kaggle/input/fraud-detection/fraudTest.csv')"
   ]
  },
  {
   "cell_type": "code",
   "execution_count": 3,
   "id": "d0c0acf0",
   "metadata": {
    "execution": {
     "iopub.execute_input": "2024-03-23T12:21:15.130420Z",
     "iopub.status.busy": "2024-03-23T12:21:15.129762Z",
     "iopub.status.idle": "2024-03-23T12:21:15.186418Z",
     "shell.execute_reply": "2024-03-23T12:21:15.185199Z"
    },
    "papermill": {
     "duration": 0.072893,
     "end_time": "2024-03-23T12:21:15.189422",
     "exception": false,
     "start_time": "2024-03-23T12:21:15.116529",
     "status": "completed"
    },
    "tags": []
   },
   "outputs": [
    {
     "data": {
      "text/html": [
       "<div>\n",
       "<style scoped>\n",
       "    .dataframe tbody tr th:only-of-type {\n",
       "        vertical-align: middle;\n",
       "    }\n",
       "\n",
       "    .dataframe tbody tr th {\n",
       "        vertical-align: top;\n",
       "    }\n",
       "\n",
       "    .dataframe thead th {\n",
       "        text-align: right;\n",
       "    }\n",
       "</style>\n",
       "<table border=\"1\" class=\"dataframe\">\n",
       "  <thead>\n",
       "    <tr style=\"text-align: right;\">\n",
       "      <th></th>\n",
       "      <th>Unnamed: 0</th>\n",
       "      <th>trans_date_trans_time</th>\n",
       "      <th>cc_num</th>\n",
       "      <th>merchant</th>\n",
       "      <th>category</th>\n",
       "      <th>amt</th>\n",
       "      <th>first</th>\n",
       "      <th>last</th>\n",
       "      <th>gender</th>\n",
       "      <th>street</th>\n",
       "      <th>...</th>\n",
       "      <th>lat</th>\n",
       "      <th>long</th>\n",
       "      <th>city_pop</th>\n",
       "      <th>job</th>\n",
       "      <th>dob</th>\n",
       "      <th>trans_num</th>\n",
       "      <th>unix_time</th>\n",
       "      <th>merch_lat</th>\n",
       "      <th>merch_long</th>\n",
       "      <th>is_fraud</th>\n",
       "    </tr>\n",
       "  </thead>\n",
       "  <tbody>\n",
       "    <tr>\n",
       "      <th>0</th>\n",
       "      <td>0</td>\n",
       "      <td>2019-01-01 00:00:18</td>\n",
       "      <td>2703186189652095</td>\n",
       "      <td>fraud_Rippin, Kub and Mann</td>\n",
       "      <td>misc_net</td>\n",
       "      <td>4.97</td>\n",
       "      <td>Jennifer</td>\n",
       "      <td>Banks</td>\n",
       "      <td>F</td>\n",
       "      <td>561 Perry Cove</td>\n",
       "      <td>...</td>\n",
       "      <td>36.0788</td>\n",
       "      <td>-81.1781</td>\n",
       "      <td>3495</td>\n",
       "      <td>Psychologist, counselling</td>\n",
       "      <td>1988-03-09</td>\n",
       "      <td>0b242abb623afc578575680df30655b9</td>\n",
       "      <td>1325376018</td>\n",
       "      <td>36.011293</td>\n",
       "      <td>-82.048315</td>\n",
       "      <td>0</td>\n",
       "    </tr>\n",
       "    <tr>\n",
       "      <th>1</th>\n",
       "      <td>1</td>\n",
       "      <td>2019-01-01 00:00:44</td>\n",
       "      <td>630423337322</td>\n",
       "      <td>fraud_Heller, Gutmann and Zieme</td>\n",
       "      <td>grocery_pos</td>\n",
       "      <td>107.23</td>\n",
       "      <td>Stephanie</td>\n",
       "      <td>Gill</td>\n",
       "      <td>F</td>\n",
       "      <td>43039 Riley Greens Suite 393</td>\n",
       "      <td>...</td>\n",
       "      <td>48.8878</td>\n",
       "      <td>-118.2105</td>\n",
       "      <td>149</td>\n",
       "      <td>Special educational needs teacher</td>\n",
       "      <td>1978-06-21</td>\n",
       "      <td>1f76529f8574734946361c461b024d99</td>\n",
       "      <td>1325376044</td>\n",
       "      <td>49.159047</td>\n",
       "      <td>-118.186462</td>\n",
       "      <td>0</td>\n",
       "    </tr>\n",
       "    <tr>\n",
       "      <th>2</th>\n",
       "      <td>2</td>\n",
       "      <td>2019-01-01 00:00:51</td>\n",
       "      <td>38859492057661</td>\n",
       "      <td>fraud_Lind-Buckridge</td>\n",
       "      <td>entertainment</td>\n",
       "      <td>220.11</td>\n",
       "      <td>Edward</td>\n",
       "      <td>Sanchez</td>\n",
       "      <td>M</td>\n",
       "      <td>594 White Dale Suite 530</td>\n",
       "      <td>...</td>\n",
       "      <td>42.1808</td>\n",
       "      <td>-112.2620</td>\n",
       "      <td>4154</td>\n",
       "      <td>Nature conservation officer</td>\n",
       "      <td>1962-01-19</td>\n",
       "      <td>a1a22d70485983eac12b5b88dad1cf95</td>\n",
       "      <td>1325376051</td>\n",
       "      <td>43.150704</td>\n",
       "      <td>-112.154481</td>\n",
       "      <td>0</td>\n",
       "    </tr>\n",
       "    <tr>\n",
       "      <th>3</th>\n",
       "      <td>3</td>\n",
       "      <td>2019-01-01 00:01:16</td>\n",
       "      <td>3534093764340240</td>\n",
       "      <td>fraud_Kutch, Hermiston and Farrell</td>\n",
       "      <td>gas_transport</td>\n",
       "      <td>45.00</td>\n",
       "      <td>Jeremy</td>\n",
       "      <td>White</td>\n",
       "      <td>M</td>\n",
       "      <td>9443 Cynthia Court Apt. 038</td>\n",
       "      <td>...</td>\n",
       "      <td>46.2306</td>\n",
       "      <td>-112.1138</td>\n",
       "      <td>1939</td>\n",
       "      <td>Patent attorney</td>\n",
       "      <td>1967-01-12</td>\n",
       "      <td>6b849c168bdad6f867558c3793159a81</td>\n",
       "      <td>1325376076</td>\n",
       "      <td>47.034331</td>\n",
       "      <td>-112.561071</td>\n",
       "      <td>0</td>\n",
       "    </tr>\n",
       "    <tr>\n",
       "      <th>4</th>\n",
       "      <td>4</td>\n",
       "      <td>2019-01-01 00:03:06</td>\n",
       "      <td>375534208663984</td>\n",
       "      <td>fraud_Keeling-Crist</td>\n",
       "      <td>misc_pos</td>\n",
       "      <td>41.96</td>\n",
       "      <td>Tyler</td>\n",
       "      <td>Garcia</td>\n",
       "      <td>M</td>\n",
       "      <td>408 Bradley Rest</td>\n",
       "      <td>...</td>\n",
       "      <td>38.4207</td>\n",
       "      <td>-79.4629</td>\n",
       "      <td>99</td>\n",
       "      <td>Dance movement psychotherapist</td>\n",
       "      <td>1986-03-28</td>\n",
       "      <td>a41d7549acf90789359a9aa5346dcb46</td>\n",
       "      <td>1325376186</td>\n",
       "      <td>38.674999</td>\n",
       "      <td>-78.632459</td>\n",
       "      <td>0</td>\n",
       "    </tr>\n",
       "  </tbody>\n",
       "</table>\n",
       "<p>5 rows × 23 columns</p>\n",
       "</div>"
      ],
      "text/plain": [
       "   Unnamed: 0 trans_date_trans_time            cc_num  \\\n",
       "0           0   2019-01-01 00:00:18  2703186189652095   \n",
       "1           1   2019-01-01 00:00:44      630423337322   \n",
       "2           2   2019-01-01 00:00:51    38859492057661   \n",
       "3           3   2019-01-01 00:01:16  3534093764340240   \n",
       "4           4   2019-01-01 00:03:06   375534208663984   \n",
       "\n",
       "                             merchant       category     amt      first  \\\n",
       "0          fraud_Rippin, Kub and Mann       misc_net    4.97   Jennifer   \n",
       "1     fraud_Heller, Gutmann and Zieme    grocery_pos  107.23  Stephanie   \n",
       "2                fraud_Lind-Buckridge  entertainment  220.11     Edward   \n",
       "3  fraud_Kutch, Hermiston and Farrell  gas_transport   45.00     Jeremy   \n",
       "4                 fraud_Keeling-Crist       misc_pos   41.96      Tyler   \n",
       "\n",
       "      last gender                        street  ...      lat      long  \\\n",
       "0    Banks      F                561 Perry Cove  ...  36.0788  -81.1781   \n",
       "1     Gill      F  43039 Riley Greens Suite 393  ...  48.8878 -118.2105   \n",
       "2  Sanchez      M      594 White Dale Suite 530  ...  42.1808 -112.2620   \n",
       "3    White      M   9443 Cynthia Court Apt. 038  ...  46.2306 -112.1138   \n",
       "4   Garcia      M              408 Bradley Rest  ...  38.4207  -79.4629   \n",
       "\n",
       "   city_pop                                job         dob  \\\n",
       "0      3495          Psychologist, counselling  1988-03-09   \n",
       "1       149  Special educational needs teacher  1978-06-21   \n",
       "2      4154        Nature conservation officer  1962-01-19   \n",
       "3      1939                    Patent attorney  1967-01-12   \n",
       "4        99     Dance movement psychotherapist  1986-03-28   \n",
       "\n",
       "                          trans_num   unix_time  merch_lat  merch_long  \\\n",
       "0  0b242abb623afc578575680df30655b9  1325376018  36.011293  -82.048315   \n",
       "1  1f76529f8574734946361c461b024d99  1325376044  49.159047 -118.186462   \n",
       "2  a1a22d70485983eac12b5b88dad1cf95  1325376051  43.150704 -112.154481   \n",
       "3  6b849c168bdad6f867558c3793159a81  1325376076  47.034331 -112.561071   \n",
       "4  a41d7549acf90789359a9aa5346dcb46  1325376186  38.674999  -78.632459   \n",
       "\n",
       "   is_fraud  \n",
       "0         0  \n",
       "1         0  \n",
       "2         0  \n",
       "3         0  \n",
       "4         0  \n",
       "\n",
       "[5 rows x 23 columns]"
      ]
     },
     "execution_count": 3,
     "metadata": {},
     "output_type": "execute_result"
    }
   ],
   "source": [
    "train.head()"
   ]
  },
  {
   "cell_type": "code",
   "execution_count": 4,
   "id": "7e71741d",
   "metadata": {
    "execution": {
     "iopub.execute_input": "2024-03-23T12:21:15.211236Z",
     "iopub.status.busy": "2024-03-23T12:21:15.210774Z",
     "iopub.status.idle": "2024-03-23T12:21:15.240565Z",
     "shell.execute_reply": "2024-03-23T12:21:15.239333Z"
    },
    "papermill": {
     "duration": 0.044175,
     "end_time": "2024-03-23T12:21:15.243309",
     "exception": false,
     "start_time": "2024-03-23T12:21:15.199134",
     "status": "completed"
    },
    "tags": []
   },
   "outputs": [
    {
     "data": {
      "text/html": [
       "<div>\n",
       "<style scoped>\n",
       "    .dataframe tbody tr th:only-of-type {\n",
       "        vertical-align: middle;\n",
       "    }\n",
       "\n",
       "    .dataframe tbody tr th {\n",
       "        vertical-align: top;\n",
       "    }\n",
       "\n",
       "    .dataframe thead th {\n",
       "        text-align: right;\n",
       "    }\n",
       "</style>\n",
       "<table border=\"1\" class=\"dataframe\">\n",
       "  <thead>\n",
       "    <tr style=\"text-align: right;\">\n",
       "      <th></th>\n",
       "      <th>Unnamed: 0</th>\n",
       "      <th>trans_date_trans_time</th>\n",
       "      <th>cc_num</th>\n",
       "      <th>merchant</th>\n",
       "      <th>category</th>\n",
       "      <th>amt</th>\n",
       "      <th>first</th>\n",
       "      <th>last</th>\n",
       "      <th>gender</th>\n",
       "      <th>street</th>\n",
       "      <th>...</th>\n",
       "      <th>lat</th>\n",
       "      <th>long</th>\n",
       "      <th>city_pop</th>\n",
       "      <th>job</th>\n",
       "      <th>dob</th>\n",
       "      <th>trans_num</th>\n",
       "      <th>unix_time</th>\n",
       "      <th>merch_lat</th>\n",
       "      <th>merch_long</th>\n",
       "      <th>is_fraud</th>\n",
       "    </tr>\n",
       "  </thead>\n",
       "  <tbody>\n",
       "    <tr>\n",
       "      <th>0</th>\n",
       "      <td>0</td>\n",
       "      <td>2020-06-21 12:14:25</td>\n",
       "      <td>2291163933867244</td>\n",
       "      <td>fraud_Kirlin and Sons</td>\n",
       "      <td>personal_care</td>\n",
       "      <td>2.86</td>\n",
       "      <td>Jeff</td>\n",
       "      <td>Elliott</td>\n",
       "      <td>M</td>\n",
       "      <td>351 Darlene Green</td>\n",
       "      <td>...</td>\n",
       "      <td>33.9659</td>\n",
       "      <td>-80.9355</td>\n",
       "      <td>333497</td>\n",
       "      <td>Mechanical engineer</td>\n",
       "      <td>1968-03-19</td>\n",
       "      <td>2da90c7d74bd46a0caf3777415b3ebd3</td>\n",
       "      <td>1371816865</td>\n",
       "      <td>33.986391</td>\n",
       "      <td>-81.200714</td>\n",
       "      <td>0</td>\n",
       "    </tr>\n",
       "    <tr>\n",
       "      <th>1</th>\n",
       "      <td>1</td>\n",
       "      <td>2020-06-21 12:14:33</td>\n",
       "      <td>3573030041201292</td>\n",
       "      <td>fraud_Sporer-Keebler</td>\n",
       "      <td>personal_care</td>\n",
       "      <td>29.84</td>\n",
       "      <td>Joanne</td>\n",
       "      <td>Williams</td>\n",
       "      <td>F</td>\n",
       "      <td>3638 Marsh Union</td>\n",
       "      <td>...</td>\n",
       "      <td>40.3207</td>\n",
       "      <td>-110.4360</td>\n",
       "      <td>302</td>\n",
       "      <td>Sales professional, IT</td>\n",
       "      <td>1990-01-17</td>\n",
       "      <td>324cc204407e99f51b0d6ca0055005e7</td>\n",
       "      <td>1371816873</td>\n",
       "      <td>39.450498</td>\n",
       "      <td>-109.960431</td>\n",
       "      <td>0</td>\n",
       "    </tr>\n",
       "    <tr>\n",
       "      <th>2</th>\n",
       "      <td>2</td>\n",
       "      <td>2020-06-21 12:14:53</td>\n",
       "      <td>3598215285024754</td>\n",
       "      <td>fraud_Swaniawski, Nitzsche and Welch</td>\n",
       "      <td>health_fitness</td>\n",
       "      <td>41.28</td>\n",
       "      <td>Ashley</td>\n",
       "      <td>Lopez</td>\n",
       "      <td>F</td>\n",
       "      <td>9333 Valentine Point</td>\n",
       "      <td>...</td>\n",
       "      <td>40.6729</td>\n",
       "      <td>-73.5365</td>\n",
       "      <td>34496</td>\n",
       "      <td>Librarian, public</td>\n",
       "      <td>1970-10-21</td>\n",
       "      <td>c81755dbbbea9d5c77f094348a7579be</td>\n",
       "      <td>1371816893</td>\n",
       "      <td>40.495810</td>\n",
       "      <td>-74.196111</td>\n",
       "      <td>0</td>\n",
       "    </tr>\n",
       "    <tr>\n",
       "      <th>3</th>\n",
       "      <td>3</td>\n",
       "      <td>2020-06-21 12:15:15</td>\n",
       "      <td>3591919803438423</td>\n",
       "      <td>fraud_Haley Group</td>\n",
       "      <td>misc_pos</td>\n",
       "      <td>60.05</td>\n",
       "      <td>Brian</td>\n",
       "      <td>Williams</td>\n",
       "      <td>M</td>\n",
       "      <td>32941 Krystal Mill Apt. 552</td>\n",
       "      <td>...</td>\n",
       "      <td>28.5697</td>\n",
       "      <td>-80.8191</td>\n",
       "      <td>54767</td>\n",
       "      <td>Set designer</td>\n",
       "      <td>1987-07-25</td>\n",
       "      <td>2159175b9efe66dc301f149d3d5abf8c</td>\n",
       "      <td>1371816915</td>\n",
       "      <td>28.812398</td>\n",
       "      <td>-80.883061</td>\n",
       "      <td>0</td>\n",
       "    </tr>\n",
       "    <tr>\n",
       "      <th>4</th>\n",
       "      <td>4</td>\n",
       "      <td>2020-06-21 12:15:17</td>\n",
       "      <td>3526826139003047</td>\n",
       "      <td>fraud_Johnston-Casper</td>\n",
       "      <td>travel</td>\n",
       "      <td>3.19</td>\n",
       "      <td>Nathan</td>\n",
       "      <td>Massey</td>\n",
       "      <td>M</td>\n",
       "      <td>5783 Evan Roads Apt. 465</td>\n",
       "      <td>...</td>\n",
       "      <td>44.2529</td>\n",
       "      <td>-85.0170</td>\n",
       "      <td>1126</td>\n",
       "      <td>Furniture designer</td>\n",
       "      <td>1955-07-06</td>\n",
       "      <td>57ff021bd3f328f8738bb535c302a31b</td>\n",
       "      <td>1371816917</td>\n",
       "      <td>44.959148</td>\n",
       "      <td>-85.884734</td>\n",
       "      <td>0</td>\n",
       "    </tr>\n",
       "  </tbody>\n",
       "</table>\n",
       "<p>5 rows × 23 columns</p>\n",
       "</div>"
      ],
      "text/plain": [
       "   Unnamed: 0 trans_date_trans_time            cc_num  \\\n",
       "0           0   2020-06-21 12:14:25  2291163933867244   \n",
       "1           1   2020-06-21 12:14:33  3573030041201292   \n",
       "2           2   2020-06-21 12:14:53  3598215285024754   \n",
       "3           3   2020-06-21 12:15:15  3591919803438423   \n",
       "4           4   2020-06-21 12:15:17  3526826139003047   \n",
       "\n",
       "                               merchant        category    amt   first  \\\n",
       "0                 fraud_Kirlin and Sons   personal_care   2.86    Jeff   \n",
       "1                  fraud_Sporer-Keebler   personal_care  29.84  Joanne   \n",
       "2  fraud_Swaniawski, Nitzsche and Welch  health_fitness  41.28  Ashley   \n",
       "3                     fraud_Haley Group        misc_pos  60.05   Brian   \n",
       "4                 fraud_Johnston-Casper          travel   3.19  Nathan   \n",
       "\n",
       "       last gender                       street  ...      lat      long  \\\n",
       "0   Elliott      M            351 Darlene Green  ...  33.9659  -80.9355   \n",
       "1  Williams      F             3638 Marsh Union  ...  40.3207 -110.4360   \n",
       "2     Lopez      F         9333 Valentine Point  ...  40.6729  -73.5365   \n",
       "3  Williams      M  32941 Krystal Mill Apt. 552  ...  28.5697  -80.8191   \n",
       "4    Massey      M     5783 Evan Roads Apt. 465  ...  44.2529  -85.0170   \n",
       "\n",
       "   city_pop                     job         dob  \\\n",
       "0    333497     Mechanical engineer  1968-03-19   \n",
       "1       302  Sales professional, IT  1990-01-17   \n",
       "2     34496       Librarian, public  1970-10-21   \n",
       "3     54767            Set designer  1987-07-25   \n",
       "4      1126      Furniture designer  1955-07-06   \n",
       "\n",
       "                          trans_num   unix_time  merch_lat  merch_long  \\\n",
       "0  2da90c7d74bd46a0caf3777415b3ebd3  1371816865  33.986391  -81.200714   \n",
       "1  324cc204407e99f51b0d6ca0055005e7  1371816873  39.450498 -109.960431   \n",
       "2  c81755dbbbea9d5c77f094348a7579be  1371816893  40.495810  -74.196111   \n",
       "3  2159175b9efe66dc301f149d3d5abf8c  1371816915  28.812398  -80.883061   \n",
       "4  57ff021bd3f328f8738bb535c302a31b  1371816917  44.959148  -85.884734   \n",
       "\n",
       "   is_fraud  \n",
       "0         0  \n",
       "1         0  \n",
       "2         0  \n",
       "3         0  \n",
       "4         0  \n",
       "\n",
       "[5 rows x 23 columns]"
      ]
     },
     "execution_count": 4,
     "metadata": {},
     "output_type": "execute_result"
    }
   ],
   "source": [
    "test.head()"
   ]
  },
  {
   "cell_type": "code",
   "execution_count": 5,
   "id": "3716ab62",
   "metadata": {
    "execution": {
     "iopub.execute_input": "2024-03-23T12:21:15.265406Z",
     "iopub.status.busy": "2024-03-23T12:21:15.264944Z",
     "iopub.status.idle": "2024-03-23T12:21:15.273591Z",
     "shell.execute_reply": "2024-03-23T12:21:15.272387Z"
    },
    "papermill": {
     "duration": 0.023246,
     "end_time": "2024-03-23T12:21:15.276439",
     "exception": false,
     "start_time": "2024-03-23T12:21:15.253193",
     "status": "completed"
    },
    "tags": []
   },
   "outputs": [
    {
     "data": {
      "text/plain": [
       "Index(['Unnamed: 0', 'trans_date_trans_time', 'cc_num', 'merchant', 'category',\n",
       "       'amt', 'first', 'last', 'gender', 'street', 'city', 'state', 'zip',\n",
       "       'lat', 'long', 'city_pop', 'job', 'dob', 'trans_num', 'unix_time',\n",
       "       'merch_lat', 'merch_long', 'is_fraud'],\n",
       "      dtype='object')"
      ]
     },
     "execution_count": 5,
     "metadata": {},
     "output_type": "execute_result"
    }
   ],
   "source": [
    "train.columns"
   ]
  },
  {
   "cell_type": "code",
   "execution_count": 6,
   "id": "19713dc8",
   "metadata": {
    "execution": {
     "iopub.execute_input": "2024-03-23T12:21:15.299616Z",
     "iopub.status.busy": "2024-03-23T12:21:15.299221Z",
     "iopub.status.idle": "2024-03-23T12:21:15.306831Z",
     "shell.execute_reply": "2024-03-23T12:21:15.305478Z"
    },
    "papermill": {
     "duration": 0.023009,
     "end_time": "2024-03-23T12:21:15.309416",
     "exception": false,
     "start_time": "2024-03-23T12:21:15.286407",
     "status": "completed"
    },
    "tags": []
   },
   "outputs": [
    {
     "data": {
      "text/plain": [
       "Index(['Unnamed: 0', 'trans_date_trans_time', 'cc_num', 'merchant', 'category',\n",
       "       'amt', 'first', 'last', 'gender', 'street', 'city', 'state', 'zip',\n",
       "       'lat', 'long', 'city_pop', 'job', 'dob', 'trans_num', 'unix_time',\n",
       "       'merch_lat', 'merch_long', 'is_fraud'],\n",
       "      dtype='object')"
      ]
     },
     "execution_count": 6,
     "metadata": {},
     "output_type": "execute_result"
    }
   ],
   "source": [
    "test.columns"
   ]
  },
  {
   "cell_type": "code",
   "execution_count": 7,
   "id": "622b2e0f",
   "metadata": {
    "execution": {
     "iopub.execute_input": "2024-03-23T12:21:15.331847Z",
     "iopub.status.busy": "2024-03-23T12:21:15.331429Z",
     "iopub.status.idle": "2024-03-23T12:21:15.338956Z",
     "shell.execute_reply": "2024-03-23T12:21:15.337693Z"
    },
    "papermill": {
     "duration": 0.021615,
     "end_time": "2024-03-23T12:21:15.341418",
     "exception": false,
     "start_time": "2024-03-23T12:21:15.319803",
     "status": "completed"
    },
    "tags": []
   },
   "outputs": [
    {
     "data": {
      "text/plain": [
       "(1296675, 23)"
      ]
     },
     "execution_count": 7,
     "metadata": {},
     "output_type": "execute_result"
    }
   ],
   "source": [
    "train.shape"
   ]
  },
  {
   "cell_type": "code",
   "execution_count": 8,
   "id": "7b1a90c1",
   "metadata": {
    "execution": {
     "iopub.execute_input": "2024-03-23T12:21:15.364843Z",
     "iopub.status.busy": "2024-03-23T12:21:15.364413Z",
     "iopub.status.idle": "2024-03-23T12:21:15.371718Z",
     "shell.execute_reply": "2024-03-23T12:21:15.370598Z"
    },
    "papermill": {
     "duration": 0.022496,
     "end_time": "2024-03-23T12:21:15.374147",
     "exception": false,
     "start_time": "2024-03-23T12:21:15.351651",
     "status": "completed"
    },
    "tags": []
   },
   "outputs": [
    {
     "data": {
      "text/plain": [
       "(555719, 23)"
      ]
     },
     "execution_count": 8,
     "metadata": {},
     "output_type": "execute_result"
    }
   ],
   "source": [
    "test.shape"
   ]
  },
  {
   "cell_type": "code",
   "execution_count": 9,
   "id": "dfb79d88",
   "metadata": {
    "execution": {
     "iopub.execute_input": "2024-03-23T12:21:15.396537Z",
     "iopub.status.busy": "2024-03-23T12:21:15.396147Z",
     "iopub.status.idle": "2024-03-23T12:21:15.401406Z",
     "shell.execute_reply": "2024-03-23T12:21:15.400215Z"
    },
    "papermill": {
     "duration": 0.019515,
     "end_time": "2024-03-23T12:21:15.403989",
     "exception": false,
     "start_time": "2024-03-23T12:21:15.384474",
     "status": "completed"
    },
    "tags": []
   },
   "outputs": [],
   "source": [
    "frames = [train,test]"
   ]
  },
  {
   "cell_type": "code",
   "execution_count": 10,
   "id": "f28d6eec",
   "metadata": {
    "execution": {
     "iopub.execute_input": "2024-03-23T12:21:15.426859Z",
     "iopub.status.busy": "2024-03-23T12:21:15.426449Z",
     "iopub.status.idle": "2024-03-23T12:21:15.727897Z",
     "shell.execute_reply": "2024-03-23T12:21:15.726835Z"
    },
    "papermill": {
     "duration": 0.316098,
     "end_time": "2024-03-23T12:21:15.730733",
     "exception": false,
     "start_time": "2024-03-23T12:21:15.414635",
     "status": "completed"
    },
    "tags": []
   },
   "outputs": [],
   "source": [
    "df = pd.concat(frames)"
   ]
  },
  {
   "cell_type": "code",
   "execution_count": 11,
   "id": "e32aec85",
   "metadata": {
    "execution": {
     "iopub.execute_input": "2024-03-23T12:21:15.753696Z",
     "iopub.status.busy": "2024-03-23T12:21:15.753307Z",
     "iopub.status.idle": "2024-03-23T12:21:15.760192Z",
     "shell.execute_reply": "2024-03-23T12:21:15.759108Z"
    },
    "papermill": {
     "duration": 0.021285,
     "end_time": "2024-03-23T12:21:15.762669",
     "exception": false,
     "start_time": "2024-03-23T12:21:15.741384",
     "status": "completed"
    },
    "tags": []
   },
   "outputs": [
    {
     "data": {
      "text/plain": [
       "(1852394, 23)"
      ]
     },
     "execution_count": 11,
     "metadata": {},
     "output_type": "execute_result"
    }
   ],
   "source": [
    "df.shape"
   ]
  },
  {
   "cell_type": "code",
   "execution_count": 12,
   "id": "8d846258",
   "metadata": {
    "execution": {
     "iopub.execute_input": "2024-03-23T12:21:15.785884Z",
     "iopub.status.busy": "2024-03-23T12:21:15.784886Z",
     "iopub.status.idle": "2024-03-23T12:21:15.812877Z",
     "shell.execute_reply": "2024-03-23T12:21:15.811885Z"
    },
    "papermill": {
     "duration": 0.042558,
     "end_time": "2024-03-23T12:21:15.815707",
     "exception": false,
     "start_time": "2024-03-23T12:21:15.773149",
     "status": "completed"
    },
    "tags": []
   },
   "outputs": [],
   "source": [
    "df.reset_index(inplace=True)"
   ]
  },
  {
   "cell_type": "code",
   "execution_count": 13,
   "id": "b378a8ff",
   "metadata": {
    "execution": {
     "iopub.execute_input": "2024-03-23T12:21:15.839066Z",
     "iopub.status.busy": "2024-03-23T12:21:15.838223Z",
     "iopub.status.idle": "2024-03-23T12:21:15.862691Z",
     "shell.execute_reply": "2024-03-23T12:21:15.861607Z"
    },
    "papermill": {
     "duration": 0.039245,
     "end_time": "2024-03-23T12:21:15.865602",
     "exception": false,
     "start_time": "2024-03-23T12:21:15.826357",
     "status": "completed"
    },
    "tags": []
   },
   "outputs": [
    {
     "name": "stdout",
     "output_type": "stream",
     "text": [
      "<class 'pandas.core.frame.DataFrame'>\n",
      "RangeIndex: 1852394 entries, 0 to 1852393\n",
      "Data columns (total 24 columns):\n",
      " #   Column                 Dtype  \n",
      "---  ------                 -----  \n",
      " 0   index                  int64  \n",
      " 1   Unnamed: 0             int64  \n",
      " 2   trans_date_trans_time  object \n",
      " 3   cc_num                 int64  \n",
      " 4   merchant               object \n",
      " 5   category               object \n",
      " 6   amt                    float64\n",
      " 7   first                  object \n",
      " 8   last                   object \n",
      " 9   gender                 object \n",
      " 10  street                 object \n",
      " 11  city                   object \n",
      " 12  state                  object \n",
      " 13  zip                    int64  \n",
      " 14  lat                    float64\n",
      " 15  long                   float64\n",
      " 16  city_pop               int64  \n",
      " 17  job                    object \n",
      " 18  dob                    object \n",
      " 19  trans_num              object \n",
      " 20  unix_time              int64  \n",
      " 21  merch_lat              float64\n",
      " 22  merch_long             float64\n",
      " 23  is_fraud               int64  \n",
      "dtypes: float64(5), int64(7), object(12)\n",
      "memory usage: 339.2+ MB\n"
     ]
    }
   ],
   "source": [
    "df.info()"
   ]
  },
  {
   "cell_type": "code",
   "execution_count": 14,
   "id": "cc1de1ab",
   "metadata": {
    "execution": {
     "iopub.execute_input": "2024-03-23T12:21:15.888709Z",
     "iopub.status.busy": "2024-03-23T12:21:15.888302Z",
     "iopub.status.idle": "2024-03-23T12:21:55.575746Z",
     "shell.execute_reply": "2024-03-23T12:21:55.574329Z"
    },
    "papermill": {
     "duration": 39.702398,
     "end_time": "2024-03-23T12:21:55.578676",
     "exception": false,
     "start_time": "2024-03-23T12:21:15.876278",
     "status": "completed"
    },
    "tags": []
   },
   "outputs": [],
   "source": [
    "from sklearn.preprocessing import OrdinalEncoder\n",
    "cols = ['trans_date_trans_time', 'merchant', 'category', 'first', 'last',\n",
    "        'gender', 'street', 'city', 'state', 'job', 'dob', 'trans_num']\n",
    "encoder = OrdinalEncoder()\n",
    "df[cols] = encoder.fit_transform(df[cols])"
   ]
  },
  {
   "cell_type": "code",
   "execution_count": 15,
   "id": "133a0d3d",
   "metadata": {
    "execution": {
     "iopub.execute_input": "2024-03-23T12:21:55.602571Z",
     "iopub.status.busy": "2024-03-23T12:21:55.601296Z",
     "iopub.status.idle": "2024-03-23T12:21:58.818195Z",
     "shell.execute_reply": "2024-03-23T12:21:58.816987Z"
    },
    "papermill": {
     "duration": 3.231211,
     "end_time": "2024-03-23T12:21:58.820705",
     "exception": false,
     "start_time": "2024-03-23T12:21:55.589494",
     "status": "completed"
    },
    "tags": []
   },
   "outputs": [
    {
     "data": {
      "text/plain": [
       "0"
      ]
     },
     "execution_count": 15,
     "metadata": {},
     "output_type": "execute_result"
    }
   ],
   "source": [
    "df.duplicated().sum()"
   ]
  },
  {
   "cell_type": "code",
   "execution_count": 16,
   "id": "dacb27f0",
   "metadata": {
    "execution": {
     "iopub.execute_input": "2024-03-23T12:21:58.844858Z",
     "iopub.status.busy": "2024-03-23T12:21:58.844058Z",
     "iopub.status.idle": "2024-03-23T12:21:58.913993Z",
     "shell.execute_reply": "2024-03-23T12:21:58.912776Z"
    },
    "papermill": {
     "duration": 0.08524,
     "end_time": "2024-03-23T12:21:58.916565",
     "exception": false,
     "start_time": "2024-03-23T12:21:58.831325",
     "status": "completed"
    },
    "tags": []
   },
   "outputs": [
    {
     "data": {
      "text/plain": [
       "index                    0\n",
       "Unnamed: 0               0\n",
       "trans_date_trans_time    0\n",
       "cc_num                   0\n",
       "merchant                 0\n",
       "category                 0\n",
       "amt                      0\n",
       "first                    0\n",
       "last                     0\n",
       "gender                   0\n",
       "street                   0\n",
       "city                     0\n",
       "state                    0\n",
       "zip                      0\n",
       "lat                      0\n",
       "long                     0\n",
       "city_pop                 0\n",
       "job                      0\n",
       "dob                      0\n",
       "trans_num                0\n",
       "unix_time                0\n",
       "merch_lat                0\n",
       "merch_long               0\n",
       "is_fraud                 0\n",
       "dtype: int64"
      ]
     },
     "execution_count": 16,
     "metadata": {},
     "output_type": "execute_result"
    }
   ],
   "source": [
    "df.isnull().sum()"
   ]
  },
  {
   "cell_type": "code",
   "execution_count": 17,
   "id": "9fef7224",
   "metadata": {
    "execution": {
     "iopub.execute_input": "2024-03-23T12:21:58.940181Z",
     "iopub.status.busy": "2024-03-23T12:21:58.939754Z",
     "iopub.status.idle": "2024-03-23T12:21:58.968841Z",
     "shell.execute_reply": "2024-03-23T12:21:58.967663Z"
    },
    "papermill": {
     "duration": 0.044224,
     "end_time": "2024-03-23T12:21:58.971593",
     "exception": false,
     "start_time": "2024-03-23T12:21:58.927369",
     "status": "completed"
    },
    "tags": []
   },
   "outputs": [
    {
     "data": {
      "text/plain": [
       "is_fraud\n",
       "0    1842743\n",
       "1       9651\n",
       "Name: count, dtype: int64"
      ]
     },
     "execution_count": 17,
     "metadata": {},
     "output_type": "execute_result"
    }
   ],
   "source": [
    "df['is_fraud'].value_counts()"
   ]
  },
  {
   "cell_type": "code",
   "execution_count": 18,
   "id": "556da6de",
   "metadata": {
    "execution": {
     "iopub.execute_input": "2024-03-23T12:21:58.996987Z",
     "iopub.status.busy": "2024-03-23T12:21:58.996226Z",
     "iopub.status.idle": "2024-03-23T12:21:59.310358Z",
     "shell.execute_reply": "2024-03-23T12:21:59.309097Z"
    },
    "papermill": {
     "duration": 0.329926,
     "end_time": "2024-03-23T12:21:59.312889",
     "exception": false,
     "start_time": "2024-03-23T12:21:58.982963",
     "status": "completed"
    },
    "tags": []
   },
   "outputs": [],
   "source": [
    "from sklearn.model_selection import train_test_split \n",
    "x=df.drop(['is_fraud'],axis=1)\n",
    "y=df['is_fraud']"
   ]
  },
  {
   "cell_type": "code",
   "execution_count": 19,
   "id": "2d2df760",
   "metadata": {
    "execution": {
     "iopub.execute_input": "2024-03-23T12:21:59.336812Z",
     "iopub.status.busy": "2024-03-23T12:21:59.336419Z",
     "iopub.status.idle": "2024-03-23T12:22:00.306340Z",
     "shell.execute_reply": "2024-03-23T12:22:00.305268Z"
    },
    "papermill": {
     "duration": 0.985183,
     "end_time": "2024-03-23T12:22:00.309139",
     "exception": false,
     "start_time": "2024-03-23T12:21:59.323956",
     "status": "completed"
    },
    "tags": []
   },
   "outputs": [],
   "source": [
    "x_train,x_test,y_train,y_test=train_test_split(x,y,test_size=0.2,random_state=100)"
   ]
  },
  {
   "cell_type": "code",
   "execution_count": 20,
   "id": "1b0e1fa0",
   "metadata": {
    "execution": {
     "iopub.execute_input": "2024-03-23T12:22:00.334846Z",
     "iopub.status.busy": "2024-03-23T12:22:00.334475Z",
     "iopub.status.idle": "2024-03-23T12:22:00.341166Z",
     "shell.execute_reply": "2024-03-23T12:22:00.340066Z"
    },
    "papermill": {
     "duration": 0.021312,
     "end_time": "2024-03-23T12:22:00.343422",
     "exception": false,
     "start_time": "2024-03-23T12:22:00.322110",
     "status": "completed"
    },
    "tags": []
   },
   "outputs": [
    {
     "data": {
      "text/plain": [
       "(1481915, 23)"
      ]
     },
     "execution_count": 20,
     "metadata": {},
     "output_type": "execute_result"
    }
   ],
   "source": [
    "x_train.shape"
   ]
  },
  {
   "cell_type": "code",
   "execution_count": 21,
   "id": "429de8bb",
   "metadata": {
    "execution": {
     "iopub.execute_input": "2024-03-23T12:22:00.367367Z",
     "iopub.status.busy": "2024-03-23T12:22:00.366974Z",
     "iopub.status.idle": "2024-03-23T12:22:00.373733Z",
     "shell.execute_reply": "2024-03-23T12:22:00.372611Z"
    },
    "papermill": {
     "duration": 0.021632,
     "end_time": "2024-03-23T12:22:00.376090",
     "exception": false,
     "start_time": "2024-03-23T12:22:00.354458",
     "status": "completed"
    },
    "tags": []
   },
   "outputs": [
    {
     "data": {
      "text/plain": [
       "(1481915,)"
      ]
     },
     "execution_count": 21,
     "metadata": {},
     "output_type": "execute_result"
    }
   ],
   "source": [
    "y_train.shape"
   ]
  },
  {
   "cell_type": "code",
   "execution_count": 22,
   "id": "266bcd36",
   "metadata": {
    "execution": {
     "iopub.execute_input": "2024-03-23T12:22:00.400504Z",
     "iopub.status.busy": "2024-03-23T12:22:00.400135Z",
     "iopub.status.idle": "2024-03-23T12:22:00.499428Z",
     "shell.execute_reply": "2024-03-23T12:22:00.498168Z"
    },
    "papermill": {
     "duration": 0.114814,
     "end_time": "2024-03-23T12:22:00.502274",
     "exception": false,
     "start_time": "2024-03-23T12:22:00.387460",
     "status": "completed"
    },
    "tags": []
   },
   "outputs": [],
   "source": [
    "from sklearn.linear_model import LogisticRegression"
   ]
  },
  {
   "cell_type": "code",
   "execution_count": 23,
   "id": "f687e225",
   "metadata": {
    "execution": {
     "iopub.execute_input": "2024-03-23T12:22:00.526992Z",
     "iopub.status.busy": "2024-03-23T12:22:00.526322Z",
     "iopub.status.idle": "2024-03-23T12:22:04.548758Z",
     "shell.execute_reply": "2024-03-23T12:22:04.547200Z"
    },
    "papermill": {
     "duration": 4.057704,
     "end_time": "2024-03-23T12:22:04.571485",
     "exception": false,
     "start_time": "2024-03-23T12:22:00.513781",
     "status": "completed"
    },
    "tags": []
   },
   "outputs": [
    {
     "name": "stderr",
     "output_type": "stream",
     "text": [
      "/opt/conda/lib/python3.10/site-packages/sklearn/linear_model/_logistic.py:458: ConvergenceWarning: lbfgs failed to converge (status=2):\n",
      "ABNORMAL_TERMINATION_IN_LNSRCH.\n",
      "\n",
      "Increase the number of iterations (max_iter) or scale the data as shown in:\n",
      "    https://scikit-learn.org/stable/modules/preprocessing.html\n",
      "Please also refer to the documentation for alternative solver options:\n",
      "    https://scikit-learn.org/stable/modules/linear_model.html#logistic-regression\n",
      "  n_iter_i = _check_optimize_result(\n"
     ]
    },
    {
     "data": {
      "text/html": [
       "<style>#sk-container-id-1 {color: black;background-color: white;}#sk-container-id-1 pre{padding: 0;}#sk-container-id-1 div.sk-toggleable {background-color: white;}#sk-container-id-1 label.sk-toggleable__label {cursor: pointer;display: block;width: 100%;margin-bottom: 0;padding: 0.3em;box-sizing: border-box;text-align: center;}#sk-container-id-1 label.sk-toggleable__label-arrow:before {content: \"▸\";float: left;margin-right: 0.25em;color: #696969;}#sk-container-id-1 label.sk-toggleable__label-arrow:hover:before {color: black;}#sk-container-id-1 div.sk-estimator:hover label.sk-toggleable__label-arrow:before {color: black;}#sk-container-id-1 div.sk-toggleable__content {max-height: 0;max-width: 0;overflow: hidden;text-align: left;background-color: #f0f8ff;}#sk-container-id-1 div.sk-toggleable__content pre {margin: 0.2em;color: black;border-radius: 0.25em;background-color: #f0f8ff;}#sk-container-id-1 input.sk-toggleable__control:checked~div.sk-toggleable__content {max-height: 200px;max-width: 100%;overflow: auto;}#sk-container-id-1 input.sk-toggleable__control:checked~label.sk-toggleable__label-arrow:before {content: \"▾\";}#sk-container-id-1 div.sk-estimator input.sk-toggleable__control:checked~label.sk-toggleable__label {background-color: #d4ebff;}#sk-container-id-1 div.sk-label input.sk-toggleable__control:checked~label.sk-toggleable__label {background-color: #d4ebff;}#sk-container-id-1 input.sk-hidden--visually {border: 0;clip: rect(1px 1px 1px 1px);clip: rect(1px, 1px, 1px, 1px);height: 1px;margin: -1px;overflow: hidden;padding: 0;position: absolute;width: 1px;}#sk-container-id-1 div.sk-estimator {font-family: monospace;background-color: #f0f8ff;border: 1px dotted black;border-radius: 0.25em;box-sizing: border-box;margin-bottom: 0.5em;}#sk-container-id-1 div.sk-estimator:hover {background-color: #d4ebff;}#sk-container-id-1 div.sk-parallel-item::after {content: \"\";width: 100%;border-bottom: 1px solid gray;flex-grow: 1;}#sk-container-id-1 div.sk-label:hover label.sk-toggleable__label {background-color: #d4ebff;}#sk-container-id-1 div.sk-serial::before {content: \"\";position: absolute;border-left: 1px solid gray;box-sizing: border-box;top: 0;bottom: 0;left: 50%;z-index: 0;}#sk-container-id-1 div.sk-serial {display: flex;flex-direction: column;align-items: center;background-color: white;padding-right: 0.2em;padding-left: 0.2em;position: relative;}#sk-container-id-1 div.sk-item {position: relative;z-index: 1;}#sk-container-id-1 div.sk-parallel {display: flex;align-items: stretch;justify-content: center;background-color: white;position: relative;}#sk-container-id-1 div.sk-item::before, #sk-container-id-1 div.sk-parallel-item::before {content: \"\";position: absolute;border-left: 1px solid gray;box-sizing: border-box;top: 0;bottom: 0;left: 50%;z-index: -1;}#sk-container-id-1 div.sk-parallel-item {display: flex;flex-direction: column;z-index: 1;position: relative;background-color: white;}#sk-container-id-1 div.sk-parallel-item:first-child::after {align-self: flex-end;width: 50%;}#sk-container-id-1 div.sk-parallel-item:last-child::after {align-self: flex-start;width: 50%;}#sk-container-id-1 div.sk-parallel-item:only-child::after {width: 0;}#sk-container-id-1 div.sk-dashed-wrapped {border: 1px dashed gray;margin: 0 0.4em 0.5em 0.4em;box-sizing: border-box;padding-bottom: 0.4em;background-color: white;}#sk-container-id-1 div.sk-label label {font-family: monospace;font-weight: bold;display: inline-block;line-height: 1.2em;}#sk-container-id-1 div.sk-label-container {text-align: center;}#sk-container-id-1 div.sk-container {/* jupyter's `normalize.less` sets `[hidden] { display: none; }` but bootstrap.min.css set `[hidden] { display: none !important; }` so we also need the `!important` here to be able to override the default hidden behavior on the sphinx rendered scikit-learn.org. See: https://github.com/scikit-learn/scikit-learn/issues/21755 */display: inline-block !important;position: relative;}#sk-container-id-1 div.sk-text-repr-fallback {display: none;}</style><div id=\"sk-container-id-1\" class=\"sk-top-container\"><div class=\"sk-text-repr-fallback\"><pre>LogisticRegression()</pre><b>In a Jupyter environment, please rerun this cell to show the HTML representation or trust the notebook. <br />On GitHub, the HTML representation is unable to render, please try loading this page with nbviewer.org.</b></div><div class=\"sk-container\" hidden><div class=\"sk-item\"><div class=\"sk-estimator sk-toggleable\"><input class=\"sk-toggleable__control sk-hidden--visually\" id=\"sk-estimator-id-1\" type=\"checkbox\" checked><label for=\"sk-estimator-id-1\" class=\"sk-toggleable__label sk-toggleable__label-arrow\">LogisticRegression</label><div class=\"sk-toggleable__content\"><pre>LogisticRegression()</pre></div></div></div></div></div>"
      ],
      "text/plain": [
       "LogisticRegression()"
      ]
     },
     "execution_count": 23,
     "metadata": {},
     "output_type": "execute_result"
    }
   ],
   "source": [
    "model=LogisticRegression()\n",
    "model.fit(x_train,y_train)"
   ]
  },
  {
   "cell_type": "code",
   "execution_count": 24,
   "id": "e482e32f",
   "metadata": {
    "execution": {
     "iopub.execute_input": "2024-03-23T12:22:04.636071Z",
     "iopub.status.busy": "2024-03-23T12:22:04.635346Z",
     "iopub.status.idle": "2024-03-23T12:22:04.653801Z",
     "shell.execute_reply": "2024-03-23T12:22:04.652576Z"
    },
    "papermill": {
     "duration": 0.063081,
     "end_time": "2024-03-23T12:22:04.656038",
     "exception": false,
     "start_time": "2024-03-23T12:22:04.592957",
     "status": "completed"
    },
    "tags": []
   },
   "outputs": [],
   "source": [
    "from sklearn.metrics import accuracy_score"
   ]
  },
  {
   "cell_type": "code",
   "execution_count": 25,
   "id": "d4ccfd51",
   "metadata": {
    "execution": {
     "iopub.execute_input": "2024-03-23T12:22:04.682847Z",
     "iopub.status.busy": "2024-03-23T12:22:04.681440Z",
     "iopub.status.idle": "2024-03-23T12:22:04.999545Z",
     "shell.execute_reply": "2024-03-23T12:22:04.997605Z"
    },
    "papermill": {
     "duration": 0.336828,
     "end_time": "2024-03-23T12:22:05.004661",
     "exception": false,
     "start_time": "2024-03-23T12:22:04.667833",
     "status": "completed"
    },
    "tags": []
   },
   "outputs": [],
   "source": [
    "pred_train = model.predict(x_train)\n",
    "pred_test  = model.predict(x_test)\n"
   ]
  },
  {
   "cell_type": "code",
   "execution_count": 26,
   "id": "fcb555c1",
   "metadata": {
    "execution": {
     "iopub.execute_input": "2024-03-23T12:22:05.116090Z",
     "iopub.status.busy": "2024-03-23T12:22:05.115662Z",
     "iopub.status.idle": "2024-03-23T12:22:05.328222Z",
     "shell.execute_reply": "2024-03-23T12:22:05.326887Z"
    },
    "papermill": {
     "duration": 0.248379,
     "end_time": "2024-03-23T12:22:05.330808",
     "exception": false,
     "start_time": "2024-03-23T12:22:05.082429",
     "status": "completed"
    },
    "tags": []
   },
   "outputs": [
    {
     "name": "stdout",
     "output_type": "stream",
     "text": [
      "Training Accuracy :  0.9947486866655645\n",
      "Testing  Accuracy :  0.9949551796458099\n"
     ]
    }
   ],
   "source": [
    "print('Training Accuracy : ', accuracy_score(y_train, pred_train))\n",
    "print('Testing  Accuracy : ', accuracy_score(y_test, pred_test))"
   ]
  }
 ],
 "metadata": {
  "kaggle": {
   "accelerator": "none",
   "dataSources": [
    {
     "datasetId": 817870,
     "sourceId": 1399887,
     "sourceType": "datasetVersion"
    }
   ],
   "dockerImageVersionId": 30673,
   "isGpuEnabled": false,
   "isInternetEnabled": true,
   "language": "python",
   "sourceType": "notebook"
  },
  "kernelspec": {
   "display_name": "Python 3",
   "language": "python",
   "name": "python3"
  },
  "language_info": {
   "codemirror_mode": {
    "name": "ipython",
    "version": 3
   },
   "file_extension": ".py",
   "mimetype": "text/x-python",
   "name": "python",
   "nbconvert_exporter": "python",
   "pygments_lexer": "ipython3",
   "version": "3.10.13"
  },
  "papermill": {
   "default_parameters": {},
   "duration": 79.828624,
   "end_time": "2024-03-23T12:22:06.366213",
   "environment_variables": {},
   "exception": null,
   "input_path": "__notebook__.ipynb",
   "output_path": "__notebook__.ipynb",
   "parameters": {},
   "start_time": "2024-03-23T12:20:46.537589",
   "version": "2.5.0"
  }
 },
 "nbformat": 4,
 "nbformat_minor": 5
}
